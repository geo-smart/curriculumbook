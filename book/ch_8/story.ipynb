{
 "cells": [
  {
   "cell_type": "markdown",
   "id": "2dfc3a0d-777c-4e95-b242-8c130d51bd3d",
   "metadata": {},
   "source": [
    "# **Classification**\n",
    "\n",
    "Problems that need a *quantitative* response (numeric value) are **regression** ; problems that need a *qualitative* response (boolean or category) are **classification**. Many statistical methods can be applied to both types of problems.\n",
    "\n",
    "*Binary* classification have two output classes. They usually end up being \"A\" and \"not A\". Examples are \"earthquake\" or \"no earthquake=noise\". *Multiclass* classification refers to one with more than two classes. Some classifiers can handle multi class nateively (Stochastic Gradient Descent - SGD; Random Forest classification;  Naive Bayes). Others are strictly binary classifiers (Logistic Regression, Support Vector Machine classifier - SVM). \n",
    "\n",
    "# 1. Data download"
   ]
  },
  {
   "cell_type": "code",
   "execution_count": 131,
   "id": "0751b154-6566-427a-bb55-824c3111e1d9",
   "metadata": {},
   "outputs": [
    {
     "data": {
      "text/plain": [
       "dict_keys(['data', 'target', 'frame', 'feature_names', 'target_names', 'images', 'DESCR'])"
      ]
     },
     "execution_count": 131,
     "metadata": {},
     "output_type": "execute_result"
    }
   ],
   "source": [
    "from sklearn.datasets import load_digits,fetch_openml\n",
    "digits = load_digits()\n",
    "digits.keys()"
   ]
  },
  {
   "cell_type": "markdown",
   "id": "9148193a-5847-4ce8-9a79-898a56f68ffb",
   "metadata": {},
   "source": [
    "The data is vector of floats. The target is an integer that is the attribute of the data. How are the data balanced between the classes? How many samples are there per class?"
   ]
  },
  {
   "cell_type": "code",
   "execution_count": 132,
   "id": "5e7bf0df-9471-40ec-a5d3-33e4b84bf915",
   "metadata": {},
   "outputs": [
    {
     "name": "stdout",
     "output_type": "stream",
     "text": [
      "<class 'numpy.ndarray'> <class 'numpy.int64'>\n",
      "[ 0.  0.  5. 13.  9.  1.  0.  0.  0.  0. 13. 15. 10. 15.  5.  0.  0.  3.\n",
      " 15.  2.  0. 11.  8.  0.  0.  4. 12.  0.  0.  8.  8.  0.  0.  5.  8.  0.\n",
      "  0.  9.  8.  0.  0.  4. 11.  0.  1. 12.  7.  0.  0.  2. 14.  5. 10. 12.\n",
      "  0.  0.  0.  0.  6. 13. 10.  0.  0.  0.]\n",
      "0\n",
      "15.0\n"
     ]
    }
   ],
   "source": [
    "# explore data type\n",
    "data,y = digits[\"data\"].copy(),digits[\"target\"].copy()\n",
    "print(type(data[0][:]),type(y[0]))\n",
    "print(data[0][:])\n",
    "print(y[0])\n",
    "print(max(data[0]))\n",
    "# note that we do not modify the raw data that is stored on the digits dictionary."
   ]
  },
  {
   "cell_type": "code",
   "execution_count": 133,
   "id": "f94a4683-d097-4da8-bd27-d804c0e80fb7",
   "metadata": {},
   "outputs": [
    {
     "data": {
      "text/plain": [
       "(array([178., 182., 177., 183., 181., 182., 181., 179., 174., 180.]),\n",
       " array([0. , 0.9, 1.8, 2.7, 3.6, 4.5, 5.4, 6.3, 7.2, 8.1, 9. ]),\n",
       " <BarContainer object of 10 artists>)"
      ]
     },
     "execution_count": 133,
     "metadata": {},
     "output_type": "execute_result"
    },
    {
     "data": {
      "image/png": "[encoded data removed]",
      "text/plain": [
       "<Figure size 432x288 with 1 Axes>"
      ]
     },
     "metadata": {
      "needs_background": "light"
     },
     "output_type": "display_data"
    }
   ],
   "source": [
    "# plot a histogram of the labels to see the balancing of the data among the classes.\n",
    "plt.hist(y)"
   ]
  },
  {
   "cell_type": "markdown",
   "id": "24eea66f-d3bf-48f6-aa3e-5d7c0b92586e",
   "metadata": {},
   "source": [
    " **how many classes are there?**\n",
    " Since the classes are integers, we can count the number of classes using the function \"unique\""
   ]
  },
  {
   "cell_type": "code",
   "execution_count": 134,
   "id": "07a1ecff-34cf-4cce-bf99-3787d51b466b",
   "metadata": {},
   "outputs": [
    {
     "name": "stdout",
     "output_type": "stream",
     "text": [
      "[0 1 2 3 4 5 6 7 8 9]\n",
      "10\n"
     ]
    }
   ],
   "source": [
    "Nclasses = len(np.unique(y))\n",
    "print(np.unique(y))\n",
    "print(Nclasses)"
   ]
  },
  {
   "cell_type": "markdown",
   "id": "e37e39ff-6ba5-44e3-909c-0112f8c9f1cd",
   "metadata": {},
   "source": [
    "### #4. Data preparation\n",
    "First print and plot the data."
   ]
  },
  {
   "cell_type": "code",
   "execution_count": 135,
   "id": "3f1f78a0-23e9-41ee-8ed6-b58a2b557129",
   "metadata": {},
   "outputs": [
    {
     "data": {
      "image/png": "[encoded data removed]",
      "text/plain": [
       "<Figure size 720x216 with 4 Axes>"
      ]
     },
     "metadata": {
      "needs_background": "light"
     },
     "output_type": "display_data"
    }
   ],
   "source": [
    "# plot the data\n",
    "import matplotlib.pyplot as plt\n",
    "# plot the first 4 data and their labels.\n",
    "_, axes = plt.subplots(nrows=1, ncols=4, figsize=(10, 3))\n",
    "for ax, image, label in zip(axes, digits.images, digits.target):\n",
    "    ax.set_axis_off()\n",
    "    ax.imshow(image, cmap=plt.cm.gray_r, interpolation='nearest')\n",
    "    ax.set_title('Training: %i' % label)"
   ]
  },
  {
   "cell_type": "markdown",
   "id": "306f80dd-f3b9-4d7b-a5dd-b7d581947017",
   "metadata": {},
   "source": [
    "We look at it and there is little noise and no gap. It's a nicely curated data set. I wish there were more of that for geosciences. Give us some pingos!"
   ]
  },
  {
   "cell_type": "markdown",
   "id": "5b34c283-6190-417b-afae-13516867f8f6",
   "metadata": {},
   "source": [
    "### Data re-scaling\n",
    "We could use MinMaxScaler from sklearn.preprocessing but since the formula for that is (x-min)/(max-min) and our min is 0, we could directly calculate x/max.\n",
    "(notes from https://www.kaggle.com/recepinanc/mnist-classification-sklearn)\n",
    "Note that the raw data is still stored in the dictionary ``digits`` and so we can modify the ``data`` variable in place."
   ]
  },
  {
   "cell_type": "code",
   "execution_count": 136,
   "id": "6d086c50-a54e-488d-8b33-b939e34ab8b6",
   "metadata": {},
   "outputs": [
    {
     "name": "stdout",
     "output_type": "stream",
     "text": [
      "0.0 15.0\n",
      "<class 'numpy.ndarray'>\n",
      "[[0.     0.     0.3125 ... 0.     0.     0.    ]\n",
      " [0.     0.     0.     ... 0.625  0.     0.    ]\n",
      " [0.     0.     0.     ... 1.     0.5625 0.    ]\n",
      " ...\n",
      " [0.     0.     0.0625 ... 0.375  0.     0.    ]\n",
      " [0.     0.     0.125  ... 0.75   0.     0.    ]\n",
      " [0.     0.     0.625  ... 0.75   0.0625 0.    ]]\n"
     ]
    }
   ],
   "source": [
    "print(min(data[0]),max(data[0]))\n",
    "from sklearn.preprocessing import MinMaxScaler\n",
    "scaler = MinMaxScaler()\n",
    "scaler.fit_transform(data)# fit the model for data normalization\n",
    "newdata = scaler.transform(data) # transform the data. watch that data was converted to a numpy array\n",
    "print(type(newdata))\n",
    "print(newdata)"
   ]
  },
  {
   "cell_type": "markdown",
   "id": "8c9b2c0b-8eca-46ce-864e-a5b41aa4bf4f",
   "metadata": {},
   "source": [
    "### Train-test split"
   ]
  },
  {
   "cell_type": "code",
   "execution_count": 137,
   "id": "b73c983d-97ec-4554-ba9f-718ff48b5606",
   "metadata": {},
   "outputs": [
    {
     "name": "stdout",
     "output_type": "stream",
     "text": [
      "There are 1797 data samples\n"
     ]
    }
   ],
   "source": [
    "# Split data into 50% train and 50% test subsets\n",
    "from sklearn.model_selection import train_test_split\n",
    "print(f\"There are {data.shape[0]} data samples\")\n",
    "X_train, X_test, y_train, y_test = train_test_split(\n",
    "    data, y, test_size=0.5, shuffle=False)\n"
   ]
  },
  {
   "cell_type": "markdown",
   "id": "3744f64e-81dc-433a-9f30-b9254d3a3248",
   "metadata": {},
   "source": [
    "## **Binary Classification**\n",
    "\n",
    "We will first attempt to identify two classes: \"5\" and \"not 5\"."
   ]
  },
  {
   "cell_type": "code",
   "execution_count": 138,
   "id": "c5d3e700-d253-4668-b956-bfff6883032b",
   "metadata": {},
   "outputs": [],
   "source": [
    "y_train_5 = (y_train==5)\n",
    "y_test_5 = (y_test==5)"
   ]
  },
  {
   "cell_type": "markdown",
   "id": "fc95d695-e065-4fca-94b9-2d1a8e6322ce",
   "metadata": {},
   "source": [
    "We will first use a classic classifier: ***Stochastic Gradient Descent SGD***.  To reproduce the results, you should set the random_state parameter."
   ]
  },
  {
   "cell_type": "code",
   "execution_count": 139,
   "id": "ccf74217-e876-4e17-ac66-6308e7ffbd72",
   "metadata": {},
   "outputs": [
    {
     "name": "stdout",
     "output_type": "stream",
     "text": [
      "[ 0.  0.  5. 13.  9.  1.  0.  0.  0.  0. 13. 15. 10. 15.  5.  0.  0.  3.\n",
      " 15.  2.  0. 11.  8.  0.  0.  4. 12.  0.  0.  8.  8.  0.  0.  5.  8.  0.\n",
      "  0.  9.  8.  0.  0.  4. 11.  0.  1. 12.  7.  0.  0.  2. 14.  5. 10. 12.\n",
      "  0.  0.  0.  0.  6. 13. 10.  0.  0.  0.]\n",
      "0\n",
      "Prediction of the first data '0' onto whether it belongs to the class 5 is False.\n"
     ]
    }
   ],
   "source": [
    "from sklearn.linear_model import SGDClassifier\n",
    "sgd_clf = SGDClassifier(random_state=42)\n",
    "sgd_clf.fit(X_train,y_train_5)\n",
    "# test on the first element of the data sample and its label:\n",
    "print(data[0])\n",
    "print(y[0])\n",
    "print(\"Prediction of the first data '%1.0f' onto whether it belongs to the class 5 is %s.\" %(y[0],sgd_clf.predict([data[0]])[0]))"
   ]
  },
  {
   "cell_type": "markdown",
   "id": "a4ed4b70-5e28-45c1-8bbc-d7926603d142",
   "metadata": {},
   "source": [
    "## Classifier Performance Metrics\n",
    "\n",
    "Confusion matrix:\n",
    "Count the instances that an element of class *A* is classified in class *B*. A 2-class confusion matrix looks like this:\n",
    "\n",
    "| True Class      | Positive            | Negative           | Total |\n",
    "|  -------------  |  -----------------  |  --------------- | ----- |\n",
    "| Positive        | True positive: tp   | False negative: fn | p     |\n",
    "| Negative        | False positive: fp  | True negative: tn  | n     |\n",
    "| **Total**       | p'                  | n'                 | N     |\n",
    "\n",
    "This can be extended for a multi-class classification and the matrix is KxK instead of 2x2. The best confusion matrix is one that is close to identity, with little off diagnoal terms.\n",
    "Model peformance can be assessed wih the following:\n",
    "* error = (fp+fn)/N --> 0\n",
    "* accuracy = (tp + tn)/N = 1 - error --> 1\n",
    "* tp-rate = tp/p --> 1\n",
    "* fp-rate = fp/n --> 0\n",
    "* precision =  tp/p' = tp / (tp + fp) --> 1 (but it ignores the performance in retrieving tn)\n",
    "* recall = tp/p = tp-rate = tp / (tp + fn) --> 1 (but it ignores the fact that bad values can be retrieve)\n",
    "* sensitivity = tp/p = tp-rate \n",
    "* specificity = tn/n = 1 -fp-rate (how well do we retrieve the negatives)\n",
    "* F1 score = 2 / (1/ precision + 1/recall) = tp / (tp + (fn+fp)/2) --> 1.\n",
    "The harmonic mean of the F1 scores gives more weight to low values. F1 score is thus high if both recall and precision are high.\n",
    "\n",
    "A good way to evaluate a model is also to use cross-validation"
   ]
  },
  {
   "cell_type": "code",
   "execution_count": 140,
   "id": "4a66bc09-47be-44bd-997f-436a647fc603",
   "metadata": {},
   "outputs": [],
   "source": [
    "from sklearn.model_selection import cross_val_predict\n",
    "y_train_pred = cross_val_predict(sgd_clf,X_train,y_train_5,cv=3) # predict using K-fold cross validation"
   ]
  },
  {
   "cell_type": "code",
   "execution_count": 141,
   "id": "68b3513b-ec13-4723-9473-6493ab3dce82",
   "metadata": {},
   "outputs": [
    {
     "name": "stdout",
     "output_type": "stream",
     "text": [
      "confusion matrix\n",
      "[[799   8]\n",
      " [ 10  81]]\n",
      "precison, recall\n",
      "0.9101123595505618 0.8901098901098901\n",
      "F1 score\n",
      "0.8999999999999999\n"
     ]
    }
   ],
   "source": [
    "from sklearn.metrics import confusion_matrix,precision_score,recall_score,f1_score \n",
    "\n",
    "print(\"confusion matrix\")\n",
    "print(confusion_matrix(y_train_5,y_train_pred))\n",
    "print(\"precison, recall\")\n",
    "print(precision_score(y_train_5,y_train_pred),recall_score(y_train_5,y_train_pred))\n",
    "print(\"F1 score\")\n",
    "print(f1_score(y_train_5,y_train_pred))"
   ]
  },
  {
   "cell_type": "code",
   "execution_count": 142,
   "id": "947e4b8b-822a-41f8-a071-f97164ad6ffd",
   "metadata": {},
   "outputs": [
    {
     "name": "stdout",
     "output_type": "stream",
     "text": [
      "Classification report for classifier SGDClassifier(random_state=42):\n",
      "              precision    recall  f1-score   support\n",
      "\n",
      "       False       0.99      0.99      0.99       807\n",
      "        True       0.91      0.89      0.90        91\n",
      "\n",
      "    accuracy                           0.98       898\n",
      "   macro avg       0.95      0.94      0.94       898\n",
      "weighted avg       0.98      0.98      0.98       898\n",
      "\n",
      "\n"
     ]
    }
   ],
   "source": [
    "from sklearn.metrics import classification_report\n",
    "print(f\"Classification report for classifier {sgd_clf}:\\n\"\n",
    "      f\"{metrics.classification_report(y_train_5, y_train_pred)}\\n\")"
   ]
  },
  {
   "cell_type": "markdown",
   "id": "6441a469-3504-4d82-ab04-10f6f7e767ef",
   "metadata": {},
   "source": [
    "**Precision and recall trade off**: increasing precision reduces recall. The classifier uses a *threshold* value to decide whether a data belongs to a class. Increasing the threhold gives higher precision score, decreasing the thresholds gives higher recall scores. Let's look at the various score values."
   ]
  },
  {
   "cell_type": "code",
   "execution_count": 143,
   "id": "5b6db181-f52d-423d-8137-f610c2305226",
   "metadata": {},
   "outputs": [
    {
     "name": "stdout",
     "output_type": "stream",
     "text": [
      "[-3598.58744704]\n"
     ]
    }
   ],
   "source": [
    "y_score=sgd_clf.decision_function([data[0]])\n",
    "print(y_score)"
   ]
  },
  {
   "cell_type": "code",
   "execution_count": 144,
   "id": "2013ccee-4a79-4431-a8b1-3726a1e63208",
   "metadata": {},
   "outputs": [
    {
     "data": {
      "text/plain": [
       "Text(0.5, 0, 'Score thresholds')"
      ]
     },
     "execution_count": 144,
     "metadata": {},
     "output_type": "execute_result"
    },
    {
     "data": {
      "image/png": "[encoded data removed]",
      "text/plain": [
       "<Figure size 432x288 with 1 Axes>"
      ]
     },
     "metadata": {
      "needs_background": "light"
     },
     "output_type": "display_data"
    }
   ],
   "source": [
    "from sklearn.metrics import precision_recall_curve\n",
    "\n",
    "\n",
    "y_score=cross_val_predict(sgd_clf,X_train,y_train_5,cv=4,method=\"decision_function\")\n",
    "precisions,recalls,thresholds=precision_recall_curve(y_train_5,y_score)\n",
    "plt.plot(thresholds,precisions[:-1])\n",
    "plt.plot(thresholds,recalls[:-1],'g-')\n",
    "plt.legend(['Precision','Recall'])\n",
    "plt.grid(True)\n",
    "plt.xlabel('Score thresholds')"
   ]
  },
  {
   "cell_type": "code",
   "execution_count": 145,
   "id": "96a9aa35-38d2-46a5-8be8-0265a906bc9e",
   "metadata": {},
   "outputs": [
    {
     "data": {
      "text/plain": [
       "Text(0.5, 0, 'Recall')"
      ]
     },
     "execution_count": 145,
     "metadata": {},
     "output_type": "execute_result"
    },
    {
     "data": {
      "image/png": "[encoded data removed]",
      "text/plain": [
       "<Figure size 432x288 with 1 Axes>"
      ]
     },
     "metadata": {
      "needs_background": "light"
     },
     "output_type": "display_data"
    }
   ],
   "source": [
    "plt.plot(recalls[:-1],precisions[:-1])\n",
    "plt.grid(True)\n",
    "plt.ylabel('Precision')\n",
    "plt.xlabel('Recall')"
   ]
  },
  {
   "cell_type": "markdown",
   "id": "ffc91f31-6f28-48d7-8810-6438651f5811",
   "metadata": {},
   "source": [
    "Given the tradeoff, we can now choose a specific threshold to tune your classification. It seems that the precision drops below 90% when the recall value gets above 90% as well. So we can choose the threshold of 90%."
   ]
  },
  {
   "cell_type": "code",
   "execution_count": 146,
   "id": "8958b3aa-d9ea-4396-b344-2a17db779bb0",
   "metadata": {},
   "outputs": [
    {
     "name": "stdout",
     "output_type": "stream",
     "text": [
      "0.9032258064516129\n",
      "0.9230769230769231\n"
     ]
    }
   ],
   "source": [
    "threshold_90_precision=thresholds[np.argmax(precisions>=0.9)]\n",
    "y_train_pred_90 = (y_score >=threshold_90_precision)\n",
    "\n",
    "print(precision_score(y_train_5,y_train_pred_90))\n",
    "print(recall_score(y_train_5,y_train_pred_90))"
   ]
  },
  {
   "cell_type": "markdown",
   "id": "269ad974-bf14-4d70-8b38-6ac123e53718",
   "metadata": {},
   "source": [
    "**Receiver Operating Characteristics ROC** \n",
    "\n",
    "It plots the true positive rate against the false positive rate.\n",
    "The ROC curve is visual, but we can quantify the classifier performance using the *area under the curve* (aka AUC). Ideally, AUC is 1.\n",
    "\n",
    "<div>\n",
    "<img src=\"roc-curve-v2-glassbox.png\" width=\"500\"/>\n",
    "</div>\n",
    "[source: https://commons.wikimedia.org/wiki/File:Roc-draft-xkcd-style.svg]"
   ]
  },
  {
   "cell_type": "code",
   "execution_count": 147,
   "id": "1ad16262-1eb7-41cc-b047-935ea5004344",
   "metadata": {},
   "outputs": [
    {
     "data": {
      "text/plain": [
       "[<matplotlib.lines.Line2D at 0x124fcdb20>]"
      ]
     },
     "execution_count": 147,
     "metadata": {},
     "output_type": "execute_result"
    },
    {
     "data": {
      "image/png": "[encoded data removed]",
      "text/plain": [
       "<Figure size 432x288 with 1 Axes>"
      ]
     },
     "metadata": {
      "needs_background": "light"
     },
     "output_type": "display_data"
    }
   ],
   "source": [
    "from sklearn.metrics import roc_curve\n",
    "fpr,tpr,thresholds=roc_curve(y_train_5,y_score)\n",
    "plt.plot(fpr,tpr,linewidth=2);plt.grid(True)\n",
    "plt.plot([0,1],[0,1],'k--')"
   ]
  },
  {
   "cell_type": "markdown",
   "id": "5ebcc0e1-f953-4615-893f-b785cddf2869",
   "metadata": {},
   "source": [
    "Compare with another classifier method. We will try ***Random Forest*** and compare the two classifiers. Instead of outputing scores, RF works with probabilities. So the value returned as between 0 and 1 with the probability of appartenance to the given class."
   ]
  },
  {
   "cell_type": "code",
   "execution_count": 150,
   "id": "42d1e03c-84ed-4402-8ac5-169226d17f2a",
   "metadata": {},
   "outputs": [],
   "source": [
    "from sklearn.ensemble import RandomForestClassifier\n",
    "\n",
    "rf_clf = RandomForestClassifier(random_state=42) # model design\n",
    "y_rf_5 = cross_val_predict(rf_clf,X_train,y_train_5,cv=3,method=\"predict_proba\")\n",
    "y_scores_rf = y_rf_5[:,1] # score in the positive class\n",
    "fpr_rf,tpr_rf,threshold_rf = roc_curve(y_train_5,y_scores_rf)"
   ]
  },
  {
   "cell_type": "code",
   "execution_count": 151,
   "id": "1c5a59c5-6519-478f-bdaf-808bcf217524",
   "metadata": {},
   "outputs": [
    {
     "data": {
      "text/plain": [
       "[<matplotlib.lines.Line2D at 0x1246c5280>]"
      ]
     },
     "execution_count": 151,
     "metadata": {},
     "output_type": "execute_result"
    },
    {
     "data": {
      "image/png": "[encoded data removed]",
      "text/plain": [
       "<Figure size 432x288 with 1 Axes>"
      ]
     },
     "metadata": {
      "needs_background": "light"
     },
     "output_type": "display_data"
    }
   ],
   "source": [
    "plt.plot(fpr_rf,tpr_rf,'r',linewidth=2)\n",
    "plt.plot(fpr,tpr,linewidth=2);plt.grid(True)\n",
    "plt.plot([0,1],[0,1],'k--')"
   ]
  },
  {
   "cell_type": "markdown",
   "id": "07968685-de62-47ad-ad9e-f507b8f257ae",
   "metadata": {},
   "source": [
    "## Multiclass Classification\n",
    "\n",
    "Here we will use several well known classifiers: Support Vector Machine, k-nearest neighbors, Stochastic Gradient Descent"
   ]
  },
  {
   "cell_type": "code",
   "execution_count": 25,
   "id": "aed564bd-be4a-45a5-b94b-245d5d23406c",
   "metadata": {},
   "outputs": [
    {
     "name": "stdout",
     "output_type": "stream",
     "text": [
      "SVC Accuracy: 0.9688542825361512\n",
      "K-nearest Neighbors Accuracy: 0.9555061179087876\n",
      "Random Forest Accuracy: 0.92880978865406\n"
     ]
    },
    {
     "name": "stderr",
     "output_type": "stream",
     "text": [
      "[Parallel(n_jobs=1)]: Using backend SequentialBackend with 1 concurrent workers.\n",
      "[Parallel(n_jobs=1)]: Done 100 out of 100 | elapsed:    0.1s finished\n",
      "[Parallel(n_jobs=1)]: Using backend SequentialBackend with 1 concurrent workers.\n",
      "[Parallel(n_jobs=1)]: Done 100 out of 100 | elapsed:    0.0s finished\n"
     ]
    }
   ],
   "source": [
    "import sklearn\n",
    "from sklearn import metrics\n",
    "from sklearn.svm import SVC\n",
    "from sklearn.neighbors import KNeighborsClassifier\n",
    "from sklearn.ensemble import RandomForestClassifier\n",
    "\n",
    "# Support Vector Machine classifier\n",
    "clf = SVC(gamma=0.001) # model design\n",
    "clf.fit(X_train, y_train) # learn\n",
    "svc_prediction = clf.predict(X_test) # predict on test\n",
    "print(\"SVC Accuracy:\", metrics.accuracy_score(y_true=y_test ,y_pred=svc_prediction))\n",
    "\n",
    "# K-nearest Neighbors\n",
    "knn_clf = KNeighborsClassifier() # model design\n",
    "knn_clf.fit(X_train, y_train) # learn\n",
    "knn_prediction = knn_clf.predict(X_test) # predict on test\n",
    "print(\"K-nearest Neighbors Accuracy:\", metrics.accuracy_score(y_true=y_test ,y_pred=knn_prediction))\n",
    "\n",
    "# Random Forest\n",
    "rf_clf = RandomForestClassifier(random_state=42, verbose=True) # model design\n",
    "rf_clf.fit(X_train, y_train)# learn\n",
    "rf_prediction = rf_clf.predict(X_test) # predict on test\n",
    "print(\"Random Forest Accuracy:\", metrics.accuracy_score(y_true=y_test ,y_pred=rf_prediction))"
   ]
  },
  {
   "cell_type": "code",
   "execution_count": 26,
   "id": "10b9b1b1-47be-43c8-9048-c992a205f9de",
   "metadata": {},
   "outputs": [
    {
     "data": {
      "image/png": "[encoded data removed]",
      "text/plain": [
       "<Figure size 720x216 with 4 Axes>"
      ]
     },
     "metadata": {
      "needs_background": "light"
     },
     "output_type": "display_data"
    }
   ],
   "source": [
    "_, axes = plt.subplots(nrows=1, ncols=4, figsize=(10, 3))\n",
    "for ax, image, prediction in zip(axes, X_test, rf_prediction):\n",
    "    ax.set_axis_off()\n",
    "    image = image.reshape(8, 8)\n",
    "    ax.imshow(image, cmap=plt.cm.gray_r, interpolation='nearest')\n",
    "    ax.set_title(f'Prediction: {prediction}')"
   ]
  },
  {
   "cell_type": "code",
   "execution_count": 27,
   "id": "fabc33dd-91ae-4463-aa0e-1302a165ac4e",
   "metadata": {},
   "outputs": [
    {
     "name": "stdout",
     "output_type": "stream",
     "text": [
      "Support Vector Machine\n",
      "Classification report for classifier SVC(gamma=0.001):\n",
      "              precision    recall  f1-score   support\n",
      "\n",
      "           0       1.00      0.99      0.99        88\n",
      "           1       0.99      0.97      0.98        91\n",
      "           2       0.99      0.99      0.99        86\n",
      "           3       0.98      0.87      0.92        91\n",
      "           4       0.99      0.96      0.97        92\n",
      "           5       0.95      0.97      0.96        91\n",
      "           6       0.99      0.99      0.99        91\n",
      "           7       0.96      0.99      0.97        89\n",
      "           8       0.94      1.00      0.97        88\n",
      "           9       0.93      0.98      0.95        92\n",
      "\n",
      "    accuracy                           0.97       899\n",
      "   macro avg       0.97      0.97      0.97       899\n",
      "weighted avg       0.97      0.97      0.97       899\n",
      "\n",
      "\n",
      "Confusion matrix:\n",
      "[[87  0  0  0  1  0  0  0  0  0]\n",
      " [ 0 88  1  0  0  0  0  0  1  1]\n",
      " [ 0  0 85  1  0  0  0  0  0  0]\n",
      " [ 0  0  0 79  0  3  0  4  5  0]\n",
      " [ 0  0  0  0 88  0  0  0  0  4]\n",
      " [ 0  0  0  0  0 88  1  0  0  2]\n",
      " [ 0  1  0  0  0  0 90  0  0  0]\n",
      " [ 0  0  0  0  0  1  0 88  0  0]\n",
      " [ 0  0  0  0  0  0  0  0 88  0]\n",
      " [ 0  0  0  1  0  1  0  0  0 90]]\n"
     ]
    },
    {
     "data": {
      "image/png": "[encoded data removed]",
      "text/plain": [
       "<Figure size 432x288 with 2 Axes>"
      ]
     },
     "metadata": {
      "needs_background": "light"
     },
     "output_type": "display_data"
    }
   ],
   "source": [
    "print(\"Support Vector Machine\")\n",
    "print(f\"Classification report for classifier {clf}:\\n\"\n",
    "      f\"{metrics.classification_report(y_test, svc_prediction)}\\n\")\n",
    "disp = metrics.plot_confusion_matrix(clf, X_test, y_test)\n",
    "disp.figure_.suptitle(\"Confusion Matrix\")\n",
    "print(f\"Confusion matrix:\\n{disp.confusion_matrix}\")\n",
    "plt.show()"
   ]
  },
  {
   "cell_type": "code",
   "execution_count": 28,
   "id": "d2c34db6-52e8-49bb-a692-5cb1f082bf56",
   "metadata": {},
   "outputs": [
    {
     "name": "stdout",
     "output_type": "stream",
     "text": [
      "K-nearest neighbors\n",
      "Classification report for classifier KNeighborsClassifier():\n",
      "              precision    recall  f1-score   support\n",
      "\n",
      "           0       0.99      1.00      0.99        88\n",
      "           1       0.95      0.98      0.96        91\n",
      "           2       0.98      0.93      0.95        86\n",
      "           3       0.89      0.90      0.90        91\n",
      "           4       1.00      0.95      0.97        92\n",
      "           5       0.96      0.98      0.97        91\n",
      "           6       0.99      1.00      0.99        91\n",
      "           7       0.95      1.00      0.97        89\n",
      "           8       0.95      0.90      0.92        88\n",
      "           9       0.91      0.92      0.92        92\n",
      "\n",
      "    accuracy                           0.96       899\n",
      "   macro avg       0.96      0.96      0.96       899\n",
      "weighted avg       0.96      0.96      0.96       899\n",
      "\n",
      "\n",
      "Confusion matrix:\n",
      "[[88  0  0  0  0  0  0  0  0  0]\n",
      " [ 0 89  0  0  0  0  0  0  1  1]\n",
      " [ 1  0 80  5  0  0  0  0  0  0]\n",
      " [ 0  0  1 82  0  2  0  3  2  1]\n",
      " [ 0  0  0  0 87  0  0  1  0  4]\n",
      " [ 0  0  0  0  0 89  1  0  0  1]\n",
      " [ 0  0  0  0  0  0 91  0  0  0]\n",
      " [ 0  0  0  0  0  0  0 89  0  0]\n",
      " [ 0  5  1  1  0  0  0  1 79  1]\n",
      " [ 0  0  0  4  0  2  0  0  1 85]]\n"
     ]
    },
    {
     "data": {
      "image/png": "[encoded data removed]",
      "text/plain": [
       "<Figure size 432x288 with 2 Axes>"
      ]
     },
     "metadata": {
      "needs_background": "light"
     },
     "output_type": "display_data"
    }
   ],
   "source": [
    "print(\"K-nearest neighbors\")\n",
    "print(f\"Classification report for classifier {knn_clf}:\\n\"\n",
    "      f\"{metrics.classification_report(y_test, knn_prediction)}\\n\")\n",
    "disp = metrics.plot_confusion_matrix(knn_clf, X_test, y_test)\n",
    "disp.figure_.suptitle(\"Confusion Matrix\")\n",
    "print(f\"Confusion matrix:\\n{disp.confusion_matrix}\")\n",
    "plt.show()"
   ]
  },
  {
   "cell_type": "code",
   "execution_count": 29,
   "id": "a75ca81d-e55b-487e-9577-3ffbaa124035",
   "metadata": {},
   "outputs": [
    {
     "name": "stdout",
     "output_type": "stream",
     "text": [
      "Random Forest\n",
      "Classification report for classifier RandomForestClassifier(random_state=42, verbose=True):\n",
      "              precision    recall  f1-score   support\n",
      "\n",
      "           0       0.97      0.99      0.98        88\n",
      "           1       0.95      0.89      0.92        91\n",
      "           2       1.00      0.90      0.94        86\n",
      "           3       0.87      0.84      0.85        91\n",
      "           4       0.99      0.91      0.95        92\n",
      "           5       0.91      0.96      0.93        91\n",
      "           6       0.98      1.00      0.99        91\n",
      "           7       0.93      0.98      0.95        89\n",
      "           8       0.88      0.90      0.89        88\n",
      "           9       0.84      0.93      0.89        92\n",
      "\n",
      "    accuracy                           0.93       899\n",
      "   macro avg       0.93      0.93      0.93       899\n",
      "weighted avg       0.93      0.93      0.93       899\n",
      "\n",
      "\n",
      "Confusion matrix:\n",
      "[[87  0  0  0  1  0  0  0  0  0]\n",
      " [ 0 81  0  2  0  1  0  0  0  7]\n",
      " [ 1  0 77  6  0  0  0  0  0  2]\n",
      " [ 0  1  0 76  0  3  0  3  7  1]\n",
      " [ 2  0  0  0 84  0  1  3  0  2]\n",
      " [ 0  0  0  0  0 87  1  0  0  3]\n",
      " [ 0  0  0  0  0  0 91  0  0  0]\n",
      " [ 0  0  0  0  0  0  0 87  2  0]\n",
      " [ 0  3  0  1  0  3  0  1 79  1]\n",
      " [ 0  0  0  2  0  2  0  0  2 86]]\n"
     ]
    },
    {
     "name": "stderr",
     "output_type": "stream",
     "text": [
      "[Parallel(n_jobs=1)]: Using backend SequentialBackend with 1 concurrent workers.\n",
      "[Parallel(n_jobs=1)]: Done 100 out of 100 | elapsed:    0.0s finished\n"
     ]
    },
    {
     "data": {
      "image/png": "[encoded data removed]",
      "text/plain": [
       "<Figure size 432x288 with 2 Axes>"
      ]
     },
     "metadata": {
      "needs_background": "light"
     },
     "output_type": "display_data"
    }
   ],
   "source": [
    "print(\"Random Forest\")\n",
    "print(f\"Classification report for classifier {rf_clf}:\\n\"\n",
    "      f\"{metrics.classification_report(y_test, rf_prediction)}\\n\")\n",
    "disp = metrics.plot_confusion_matrix(rf_clf, X_test, y_test)\n",
    "disp.figure_.suptitle(\"Confusion Matrix\")\n",
    "print(f\"Confusion matrix:\\n{disp.confusion_matrix}\")\n",
    "plt.show()"
   ]
  },
  {
   "cell_type": "code",
   "execution_count": 30,
   "id": "51b8d197-950f-4863-83c2-345bf078cbea",
   "metadata": {},
   "outputs": [],
   "source": [
    "from sklearn.metrics import roc_curve,roc_auc_score, precision_recall_curve, RocCurveDisplay, PrecisionRecallDisplay"
   ]
  },
  {
   "cell_type": "markdown",
   "id": "516d7365-289b-4429-8141-b9f8ba7752cb",
   "metadata": {},
   "source": [
    "### Multiclass classification"
   ]
  },
  {
   "cell_type": "code",
   "execution_count": 44,
   "id": "6d3511fe-308a-4a29-ae5b-61caac356fb7",
   "metadata": {},
   "outputs": [
    {
     "data": {
      "text/plain": [
       "<matplotlib.legend.Legend at 0x1247e6eb0>"
      ]
     },
     "execution_count": 44,
     "metadata": {},
     "output_type": "execute_result"
    },
    {
     "data": {
      "image/png": "[encoded data removed]",
      "text/plain": [
       "<Figure size 432x288 with 1 Axes>"
      ]
     },
     "metadata": {
      "needs_background": "light"
     },
     "output_type": "display_data"
    }
   ],
   "source": [
    "\n",
    "from sklearn.multiclass import OneVsRestClassifier\n",
    "from sklearn.preprocessing import label_binarize\n",
    "from sklearn import svm\n",
    "\n",
    "from sklearn.metrics import roc_curve, auc\n",
    "\n",
    "random_state = np.random.RandomState(0)\n",
    "classifier = OneVsRestClassifier(svm.SVC(kernel='linear', probability=True,\n",
    "                                 random_state=random_state))\n",
    "\n",
    "y = label_binarize(y, classes=[0,1,2,3,4,5,6,7,8,9])\n",
    "\n",
    "X_train, X_test, y_train, y_test = train_test_split(\n",
    "    data, y, test_size=0.5, shuffle=False)\n",
    "\n",
    "y_score = classifier.fit(X_train, y_train).decision_function(X_test)\n",
    "\n",
    "\n",
    "# Compute ROC curve and ROC area for each class\n",
    "fpr = dict()\n",
    "tpr = dict()\n",
    "roc_auc = dict()\n",
    "for i in range(Nclasses):\n",
    "    fpr[i], tpr[i], _ = roc_curve(y_test[:,i], y_score[:, i])\n",
    "    roc_auc[i] = auc(fpr[i], tpr[i])\n",
    "\n",
    "\n",
    "# Plot of a ROC curve for a specific class\n",
    "plt.figure()\n",
    "plt.plot([0, 1], [0, 1], 'k--')\n",
    "for i in range(Nclasses):\n",
    "    plt.plot(fpr[i], tpr[i], label='ROC label %1.0f (area = %0.2f)' % (i,roc_auc[i]))\n",
    "plt.xlim([0.0, 1.0])\n",
    "plt.ylim([0.0, 1.05])\n",
    "plt.grid(True)\n",
    "plt.xlabel('False Positive Rate')\n",
    "plt.ylabel('True Positive Rate')\n",
    "plt.title('Receiver operating characteristic example')\n",
    "plt.legend(loc=\"lower right\")"
   ]
  },
  {
   "cell_type": "code",
   "execution_count": null,
   "id": "b61aee5c-b10a-4661-a724-4edf56b4c140",
   "metadata": {},
   "outputs": [],
   "source": []
  }
 ],
 "metadata": {
  "kernelspec": {
   "display_name": "Python 3",
   "language": "python",
   "name": "python3"
  },
  "language_info": {
   "codemirror_mode": {
    "name": "ipython",
    "version": 3
   },
   "file_extension": ".py",
   "mimetype": "text/x-python",
   "name": "python",
   "nbconvert_exporter": "python",
   "pygments_lexer": "ipython3",
   "version": "3.9.2"
  }
 },
 "nbformat": 4,
 "nbformat_minor": 5
}
